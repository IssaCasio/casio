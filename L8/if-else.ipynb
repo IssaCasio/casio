{
 "cells": [
  {
   "cell_type": "markdown",
   "metadata": {},
   "source": [
    "# if-else statement <hr style=\"border:3px solid #B57EDC\"></hr>"
   ]
  },
  {
   "cell_type": "markdown",
   "metadata": {},
   "source": [
    "Data Analyst: Issabern Martij Ever A. Casio <br>\n",
    "Department: Electrical Engineering"
   ]
  },
  {
   "cell_type": "markdown",
   "metadata": {},
   "source": [
    "# if statement"
   ]
  },
  {
   "cell_type": "code",
   "execution_count": 3,
   "metadata": {},
   "outputs": [
    {
     "name": "stdout",
     "output_type": "stream",
     "text": [
      "pasar ko!\n"
     ]
    }
   ],
   "source": [
    "# passing score is 5.0\n",
    "grade = 5.1\n",
    "if grade >= 5.0:\n",
    "    print (\"pasar ko!\")"
   ]
  },
  {
   "cell_type": "code",
   "execution_count": 12,
   "metadata": {},
   "outputs": [
    {
     "name": "stdout",
     "output_type": "stream",
     "text": [
      "balda ko!\n"
     ]
    }
   ],
   "source": [
    "# two if statements are evaluated\n",
    "grade = 4.5\n",
    "# evaluate grade\n",
    "if grade >= 5.0:\n",
    "    print (\"pasar ko!\")\n",
    "if grade < 5:\n",
    "    print (\"balda ko!\")"
   ]
  },
  {
   "cell_type": "markdown",
   "metadata": {},
   "source": [
    "# if-else statement"
   ]
  },
  {
   "cell_type": "code",
   "execution_count": 13,
   "metadata": {},
   "outputs": [
    {
     "name": "stdout",
     "output_type": "stream",
     "text": [
      "balda ko!\n"
     ]
    }
   ],
   "source": [
    "# if grade >= 5.0 is True,'else' will not be evaluated\n",
    "grade = 4.0\n",
    "# evaluate grade\n",
    "if grade >= 5.0:\n",
    "    print (\"pasar ko!\")\n",
    "else:\n",
    "    print (\"balda ko!\")"
   ]
  },
  {
   "cell_type": "markdown",
   "metadata": {},
   "source": [
    "# if-elif-else statement"
   ]
  },
  {
   "cell_type": "code",
   "execution_count": 18,
   "metadata": {},
   "outputs": [
    {
     "name": "stdout",
     "output_type": "stream",
     "text": [
      "balda ko!\n"
     ]
    }
   ],
   "source": [
    "# if grade >= 5.0 is True,'others' will not be evaluated\n",
    "grade = 2.9\n",
    "# evaluate grade\n",
    "if grade >= 5.0:\n",
    "    print (\"pasar ko!\")\n",
    "elif grade < 5.0: # < 5.0 evaluated first\n",
    "    print (\"balda ko!\")\n",
    "elif grade < 3.0:\n",
    "    print (\"puli ko!\")\n",
    "else:\n",
    "    print (\"INVALID\")"
   ]
  },
  {
   "cell_type": "code",
   "execution_count": 19,
   "metadata": {},
   "outputs": [
    {
     "name": "stdout",
     "output_type": "stream",
     "text": [
      "puli ko!\n"
     ]
    }
   ],
   "source": [
    "# if grade >= 5.0 is True,'others' will not be evaluated\n",
    "grade = 2.9\n",
    "# evaluate grade\n",
    "if grade >= 5.0:\n",
    "    print (\"pasar ko!\")\n",
    "elif grade < 3.0: # < 3.0 evaluated first\n",
    "    print (\"puli ko!\")\n",
    "elif grade < 5.0:\n",
    "    print (\"balda ko!\")\n",
    "else:\n",
    "    print (\"INVALID\")"
   ]
  }
 ],
 "metadata": {
  "kernelspec": {
   "display_name": "Python 3",
   "language": "python",
   "name": "python3"
  },
  "language_info": {
   "codemirror_mode": {
    "name": "ipython",
    "version": 3
   },
   "file_extension": ".py",
   "mimetype": "text/x-python",
   "name": "python",
   "nbconvert_exporter": "python",
   "pygments_lexer": "ipython3",
   "version": "3.9.0"
  }
 },
 "nbformat": 4,
 "nbformat_minor": 2
}
